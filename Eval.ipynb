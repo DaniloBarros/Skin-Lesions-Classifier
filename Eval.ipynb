{
 "cells": [
  {
   "cell_type": "code",
   "execution_count": 1,
   "metadata": {},
   "outputs": [],
   "source": [
    "import pandas as pd\n",
    "from sklearn.metrics import confusion_matrix\n",
    "from sklearn.metrics import classification_report\n",
    "from sklearn.metrics import accuracy_score"
   ]
  },
  {
   "cell_type": "code",
   "execution_count": 2,
   "metadata": {},
   "outputs": [],
   "source": [
    "path_root = 'Architectures/resnet152/train/'"
   ]
  },
  {
   "cell_type": "code",
   "execution_count": 39,
   "metadata": {},
   "outputs": [],
   "source": [
    "def print_metrics(path_to_csv):\n",
    "    test = pd.read_csv(path_to_csv)\n",
    "    y_true = test['true']\n",
    "    y_pred = test['prob']\n",
    "    \n",
    "    print('\\tConfusion Matrix\\n\\n',confusion_matrix(y_true, y_pred))\n",
    "    print('\\n',classification_report(y_true, y_pred))\n",
    "    print('Accuracy: {:.4f}'.format(accuracy_score(y_true, y_pred)))"
   ]
  },
  {
   "cell_type": "markdown",
   "metadata": {},
   "source": [
    "## Metrics for 5k experiment 1\n",
    "### Validating\n",
    "Atlas_fake_asan_test:\n",
    "\n",
    "This dataset was created from the original asan10 test, where only the lesons of interest were perpetuated from the original test asan10 dataset.\n",
    "\n",
    "|Leson|Qnt|\n",
    "|:----|:---|\n",
    "|Basal Cell Carcinoma|110|\n",
    "|Lentigo|49|\n",
    "|Malignant Melanoma|59|\n",
    "|Pigmented Nevus|235|\n",
    "|Seborrheic Keratosis|99|\n",
    "|Wart|198|\n",
    "\n"
   ]
  },
  {
   "cell_type": "code",
   "execution_count": 4,
   "metadata": {},
   "outputs": [
    {
     "name": "stdout",
     "output_type": "stream",
     "text": [
      "\tConfusion Matrix\n",
      "\n",
      " [[ 41   6   6   7  17  33]\n",
      " [  1  16   0   6   3  23]\n",
      " [  2   2  16   1   2  36]\n",
      " [ 10   6   7 101  40  71]\n",
      " [  6  12   0  11  37  33]\n",
      " [  9   5   0  45  42  97]]\n",
      "\n",
      "              precision    recall  f1-score   support\n",
      "\n",
      "          0       0.59      0.37      0.46       110\n",
      "          1       0.34      0.33      0.33        49\n",
      "          2       0.55      0.27      0.36        59\n",
      "          3       0.59      0.43      0.50       235\n",
      "          4       0.26      0.37      0.31        99\n",
      "          5       0.33      0.49      0.40       198\n",
      "\n",
      "avg / total       0.46      0.41      0.42       750\n",
      "\n",
      "Accuracy: 0.4107\n"
     ]
    }
   ],
   "source": [
    "path_test_5k1 = path_root + 'atlas_5k_1/prediction_test.csv'\n",
    "print_metrics(path_test_5k1)"
   ]
  },
  {
   "cell_type": "markdown",
   "metadata": {},
   "source": [
    "### Training"
   ]
  },
  {
   "cell_type": "code",
   "execution_count": 5,
   "metadata": {},
   "outputs": [
    {
     "name": "stdout",
     "output_type": "stream",
     "text": [
      "\tConfusion Matrix\n",
      "\n",
      " [[4366   30   70  306  179   49]\n",
      " [  68 4907   10   12    1    2]\n",
      " [ 124    1 4715  103   50    7]\n",
      " [ 127    7   32 4739   69   26]\n",
      " [ 177   62   62  358 4304   37]\n",
      " [  40   10    7    8   16 4919]]\n",
      "\n",
      "              precision    recall  f1-score   support\n",
      "\n",
      "          0       0.89      0.87      0.88      5000\n",
      "          1       0.98      0.98      0.98      5000\n",
      "          2       0.96      0.94      0.95      5000\n",
      "          3       0.86      0.95      0.90      5000\n",
      "          4       0.93      0.86      0.89      5000\n",
      "          5       0.98      0.98      0.98      5000\n",
      "\n",
      "avg / total       0.93      0.93      0.93     30000\n",
      "\n",
      "Accuracy: 0.9317\n"
     ]
    }
   ],
   "source": [
    "path_train_5k1 = path_root + 'atlas_5k_1/prediction.csv'\n",
    "print_metrics(path_train_5k1)"
   ]
  },
  {
   "cell_type": "markdown",
   "metadata": {},
   "source": [
    "## 5k experiment 2\n",
    "\n",
    "### Validating\n",
    "Atlas_fake_asan_test"
   ]
  },
  {
   "cell_type": "code",
   "execution_count": 6,
   "metadata": {},
   "outputs": [
    {
     "name": "stdout",
     "output_type": "stream",
     "text": [
      "\tConfusion Matrix\n",
      "\n",
      " [[ 58   2   8   5  16  21]\n",
      " [  2  10   0   4   5  28]\n",
      " [  7   3  15   3   2  29]\n",
      " [  4   6  12 117  41  55]\n",
      " [  4   8   0  11  45  31]\n",
      " [  6   1   1  44  41 105]]\n",
      "\n",
      "              precision    recall  f1-score   support\n",
      "\n",
      "          0       0.72      0.53      0.61       110\n",
      "          1       0.33      0.20      0.25        49\n",
      "          2       0.42      0.25      0.32        59\n",
      "          3       0.64      0.50      0.56       235\n",
      "          4       0.30      0.45      0.36        99\n",
      "          5       0.39      0.53      0.45       198\n",
      "\n",
      "avg / total       0.50      0.47      0.47       750\n",
      "\n",
      "Accuracy: 0.4667\n"
     ]
    }
   ],
   "source": [
    "path_test_5k2 = path_root + 'atlas_5k_2/prediction_test.csv'\n",
    "print_metrics(path_test_5k2)"
   ]
  },
  {
   "cell_type": "markdown",
   "metadata": {},
   "source": [
    "### Training"
   ]
  },
  {
   "cell_type": "code",
   "execution_count": 7,
   "metadata": {},
   "outputs": [
    {
     "name": "stdout",
     "output_type": "stream",
     "text": [
      "\tConfusion Matrix\n",
      "\n",
      " [[4666    3   30  185   80   36]\n",
      " [  11 4869    0   67    0   53]\n",
      " [  20    0 4867   88    5   20]\n",
      " [  16    2   10 4923   29   20]\n",
      " [  68   13   24  214 4632   49]\n",
      " [   1    2    1    7    1 4988]]\n",
      "\n",
      "              precision    recall  f1-score   support\n",
      "\n",
      "          0       0.98      0.93      0.95      5000\n",
      "          1       1.00      0.97      0.98      5000\n",
      "          2       0.99      0.97      0.98      5000\n",
      "          3       0.90      0.98      0.94      5000\n",
      "          4       0.98      0.93      0.95      5000\n",
      "          5       0.97      1.00      0.98      5000\n",
      "\n",
      "avg / total       0.97      0.96      0.96     30000\n",
      "\n",
      "Accuracy: 0.9648\n"
     ]
    }
   ],
   "source": [
    "path_train_5k2 = path_root + 'atlas_5k_2/prediction_train.csv'\n",
    "print_metrics(path_train_5k2)"
   ]
  },
  {
   "cell_type": "markdown",
   "metadata": {},
   "source": [
    "## 5k experiment 3\n",
    "\n",
    "### Validating"
   ]
  },
  {
   "cell_type": "code",
   "execution_count": 36,
   "metadata": {
    "scrolled": false
   },
   "outputs": [
    {
     "name": "stdout",
     "output_type": "stream",
     "text": [
      "\tConfusion Matrix\n",
      "\n",
      " [[ 915    4   14   30   23   11]\n",
      " [   0  999    0    0    0    0]\n",
      " [   1    0 1025    3    2    0]\n",
      " [  12    0    6  971   14    1]\n",
      " [  10    8    8   38  878    0]\n",
      " [   0    2    5    0    1 1019]]\n",
      "\n",
      "              precision    recall  f1-score   support\n",
      "\n",
      "          0       0.98      0.92      0.95       997\n",
      "          1       0.99      1.00      0.99       999\n",
      "          2       0.97      0.99      0.98      1031\n",
      "          3       0.93      0.97      0.95      1004\n",
      "          4       0.96      0.93      0.94       942\n",
      "          5       0.99      0.99      0.99      1027\n",
      "\n",
      "avg / total       0.97      0.97      0.97      6000\n",
      "\n",
      "Accuracy: 0.9678\n"
     ]
    }
   ],
   "source": [
    "path_val_5k3 = path_root + 'atlas_5k_3/prediction_eval.csv'\n",
    "print_metrics(path_val_5k3)"
   ]
  },
  {
   "cell_type": "markdown",
   "metadata": {},
   "source": [
    "### Training"
   ]
  },
  {
   "cell_type": "code",
   "execution_count": 40,
   "metadata": {},
   "outputs": [
    {
     "name": "stdout",
     "output_type": "stream",
     "text": [
      "\tConfusion Matrix\n",
      "\n",
      " [[4868    5   20   47   38   22]\n",
      " [   0 5000    0    0    0    0]\n",
      " [   1    0 4992    4    3    0]\n",
      " [  13    1    8 4958   17    3]\n",
      " [  12   15   17   53 4902    1]\n",
      " [   0    2   23    0    1 4974]]\n",
      "\n",
      "              precision    recall  f1-score   support\n",
      "\n",
      "          0       0.99      0.97      0.98      5000\n",
      "          1       1.00      1.00      1.00      5000\n",
      "          2       0.99      1.00      0.99      5000\n",
      "          3       0.98      0.99      0.99      5000\n",
      "          4       0.99      0.98      0.98      5000\n",
      "          5       0.99      0.99      0.99      5000\n",
      "\n",
      "avg / total       0.99      0.99      0.99     30000\n",
      "\n",
      "Accuracy: 0.9898\n"
     ]
    }
   ],
   "source": [
    "path_train_5k3 = path_root + 'atlas_5k_3/prediction_train.csv'\n",
    "print_metrics(path_train_5k3)"
   ]
  },
  {
   "cell_type": "markdown",
   "metadata": {},
   "source": [
    "### Asan90_test"
   ]
  },
  {
   "cell_type": "code",
   "execution_count": 11,
   "metadata": {
    "scrolled": false
   },
   "outputs": [
    {
     "name": "stdout",
     "output_type": "stream",
     "text": [
      "\tConfusion Matrix\n",
      "\n",
      " [[ 42   7  14   4  13  30]\n",
      " [  0   6   1   2   4  36]\n",
      " [  7   2   5   0  11  34]\n",
      " [ 13  19  32 100  27  44]\n",
      " [  3  10   1  12  45  28]\n",
      " [  6   8   3  32  68  81]]\n",
      "\n",
      "              precision    recall  f1-score   support\n",
      "\n",
      "          0       0.59      0.38      0.46       110\n",
      "          1       0.12      0.12      0.12        49\n",
      "          2       0.09      0.08      0.09        59\n",
      "          3       0.67      0.43      0.52       235\n",
      "          4       0.27      0.45      0.34        99\n",
      "          5       0.32      0.41      0.36       198\n",
      "\n",
      "avg / total       0.43      0.37      0.38       750\n",
      "\n",
      "Accuracy: 0.3720\n"
     ]
    }
   ],
   "source": [
    "path_test_5k3 = path_root + 'atlas_5k_3/prediction_test.csv'\n",
    "print_metrics(path_test_5k3)"
   ]
  },
  {
   "cell_type": "markdown",
   "metadata": {},
   "source": [
    "### Edinburgh"
   ]
  },
  {
   "cell_type": "code",
   "execution_count": 22,
   "metadata": {},
   "outputs": [
    {
     "name": "stdout",
     "output_type": "stream",
     "text": [
      "\tConfusion Matrix\n",
      "\n",
      " [[210   0   4   9   6  10]\n",
      " [  0   0   0   0   0   0]\n",
      " [  7  11  22  25   5   6]\n",
      " [ 19   0   5 258  37  12]\n",
      " [ 11  14   0  24 177  31]\n",
      " [  0   0   0   0   0   0]]\n",
      "\n",
      "              precision    recall  f1-score   support\n",
      "\n",
      "          0       0.85      0.88      0.86       239\n",
      "          1       0.00      0.00      0.00         0\n",
      "          2       0.71      0.29      0.41        76\n",
      "          3       0.82      0.78      0.80       331\n",
      "          4       0.79      0.69      0.73       257\n",
      "          5       0.00      0.00      0.00         0\n",
      "\n",
      "avg / total       0.81      0.74      0.76       903\n",
      "\n",
      "Accuracy: 0.7386\n"
     ]
    },
    {
     "name": "stderr",
     "output_type": "stream",
     "text": [
      "/home/danilo/.virtualenvs/ml/lib/python3.6/site-packages/sklearn/metrics/classification.py:1137: UndefinedMetricWarning: Recall and F-score are ill-defined and being set to 0.0 in labels with no true samples.\n",
      "  'recall', 'true', average, warn_for)\n"
     ]
    }
   ],
   "source": [
    "path_edin_5k3 = path_root + 'atlas_5k_3/prediction_edin.csv'\n",
    "print_metrics(path_edin_5k3)"
   ]
  },
  {
   "cell_type": "code",
   "execution_count": null,
   "metadata": {},
   "outputs": [],
   "source": []
  }
 ],
 "metadata": {
  "kernelspec": {
   "display_name": "Python 3",
   "language": "python",
   "name": "python3"
  },
  "language_info": {
   "codemirror_mode": {
    "name": "ipython",
    "version": 3
   },
   "file_extension": ".py",
   "mimetype": "text/x-python",
   "name": "python",
   "nbconvert_exporter": "python",
   "pygments_lexer": "ipython3",
   "version": "3.6.5"
  }
 },
 "nbformat": 4,
 "nbformat_minor": 2
}
